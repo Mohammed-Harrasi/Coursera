{
 "cells": [
  {
   "cell_type": "markdown",
   "id": "17ff0fb0-2116-4caa-bab6-73313c2e2444",
   "metadata": {},
   "source": [
    "Exercise 2 - Create a markdown cell with the title of the notebook. (1 pt)"
   ]
  },
  {
   "cell_type": "markdown",
   "id": "5c1d25bf-000d-4007-ba43-3341048fcbd3",
   "metadata": {},
   "source": [
    "Peer-graded Assignment"
   ]
  },
  {
   "cell_type": "markdown",
   "id": "d2bb60eb-c4c7-4d9f-8f92-0bcdec3e2162",
   "metadata": {},
   "source": [
    "Exercise 3 - Create a markdown cell for an introduction. (1 pt)"
   ]
  },
  {
   "cell_type": "markdown",
   "id": "308ef67e-2660-4ca0-be3b-3c4fd57ecff0",
   "metadata": {},
   "source": [
    "This is the final assignemt where my peers will grade my work. There is total of 11 exercises that I would have to complete before submitting this work, where it ranges from creating a markdown cless and answering the questions and coding in python."
   ]
  },
  {
   "cell_type": "markdown",
   "id": "5e0318da-67e8-49f7-9426-1390a7d72930",
   "metadata": {},
   "source": [
    "Exercise 4 - Create a markdown cell to list data science languages. (3 pts)"
   ]
  },
  {
   "cell_type": "markdown",
   "id": "a36b15e0-cfb3-41c5-b3fd-151105aab7ae",
   "metadata": {},
   "source": [
    "There are couple of data science programming langauges such as:\n",
    "- Python\n",
    "- SQL\n",
    "- Java\n",
    "- C\n",
    "- C++\n",
    "- Scala\n",
    "- R\n",
    "- Julia"
   ]
  },
  {
   "cell_type": "markdown",
   "id": "3e0bf498-692b-40e3-8254-1313b244560b",
   "metadata": {},
   "source": [
    "Exercise 5 - Create a markdown cell to list data science libraries. (3 pts)"
   ]
  },
  {
   "cell_type": "markdown",
   "id": "98e5bb1e-1d4b-4506-9495-0a9e43289e85",
   "metadata": {},
   "source": [
    "Some of the data science libraries in Python are: \n",
    "- Panda\n",
    "- NumPy\n",
    "- SciPy\n",
    "- Matpotlib"
   ]
  },
  {
   "cell_type": "markdown",
   "id": "f4fd1ffe-b45b-4aa2-a946-b02aa399f10b",
   "metadata": {},
   "source": [
    "Exercise 6 - Create a markdown cell with a table of Data Science tools. (3 pts)"
   ]
  },
  {
   "cell_type": "markdown",
   "id": "f2a578f6-e05e-48dd-920b-516838568f34",
   "metadata": {},
   "source": [
    "|Programming Language| Data Science Tools|\n",
    "|--------------------| ------------------|\n",
    "|Python| Orange|\n",
    "|Java| Wekka|\n",
    "|Java| Apache MLlib|\n",
    "|Java| Deeplearning4|\n",
    "|Java| Java-ML|\n",
    "\n"
   ]
  },
  {
   "cell_type": "markdown",
   "id": "03da3930-da10-4e07-9717-bf55f7d8fd1e",
   "metadata": {},
   "source": [
    "Exercise 7 - Create a markdown cell introducing arithmetic expression examples. (1 pt)"
   ]
  },
  {
   "cell_type": "markdown",
   "id": "c9e9cb81-c790-41aa-9ff7-726169d59c49",
   "metadata": {},
   "source": [
    "Triangle Area = (Height x Base )/2"
   ]
  },
  {
   "cell_type": "markdown",
   "id": "52638d03-b5b8-4190-88d8-5dd4a75f5de3",
   "metadata": {},
   "source": [
    "Exercise 8 - Create a code cell to multiply and add numbers. (2 pts)"
   ]
  },
  {
   "cell_type": "code",
   "execution_count": 54,
   "id": "cabe2918-ee87-4ff4-b22b-8cc5f1ab45ef",
   "metadata": {},
   "outputs": [
    {
     "name": "stdout",
     "output_type": "stream",
     "text": [
      "50\n",
      "600\n"
     ]
    }
   ],
   "source": [
    "x = 30\n",
    "y = 20\n",
    "print(x+y)\n",
    "print(x * y)"
   ]
  },
  {
   "cell_type": "markdown",
   "id": "10e620d2-1b12-498f-9ef7-df3e6e1ed063",
   "metadata": {},
   "source": [
    "Exercise 9 - Create a code cell to convert minutes to hours. (2 pts)"
   ]
  },
  {
   "cell_type": "code",
   "execution_count": 57,
   "id": "c1000ce1-64cf-4409-b81a-318aac5b1dc3",
   "metadata": {},
   "outputs": [
    {
     "name": "stdout",
     "output_type": "stream",
     "text": [
      "0.3333333333333333\n"
     ]
    }
   ],
   "source": [
    "minutes = 20\n",
    "minutesToHour = minutes/60 \n",
    "print(minutesToHour)"
   ]
  },
  {
   "cell_type": "markdown",
   "id": "f728c0bd-fcb1-4927-afb3-049f83aafe1f",
   "metadata": {},
   "source": [
    "Exercise 10 -Insert a markdown cell to list Objectives. (3 pts)"
   ]
  },
  {
   "cell_type": "markdown",
   "id": "68f9c8d0-bf49-4561-a393-e3432d4225ca",
   "metadata": {},
   "source": [
    "This is the objectives that I have completed in this notebook:\n",
    "- Exercise 2 - Create a markdown cell with the title of the notebook. (1 pt)\n",
    "- Exercise 3 - Create a markdown cell for an introduction. (1 pt)\n",
    "- Exercise 4 - Create a markdown cell to list data science languages. (3 pts)\n",
    "- Exercise 5 - Create a markdown cell to list data science libraries. (3 pts)\n",
    "- Exercise 6 - Create a markdown cell with a table of Data Science tools. (3 pts)\n",
    "- Exercise 7 - Create a markdown cell introducing arithmetic expression examples. (1 pt)\n",
    "- Exercise 8 - Create a code cell to multiply and add numbers. (2 pts)\n",
    "- Exercise 9 - Create a code cell to convert minutes to hours. (2 pts)\n",
    "- Exercise 10 -Insert a markdown cell to list Objectives. (3 pts)\n",
    "- Exercise 11 - Create a markdown cell to indicate the Author’s name. (2 pts)"
   ]
  },
  {
   "cell_type": "markdown",
   "id": "9e4e9354-57a4-46a2-8efc-519786c4ae7e",
   "metadata": {},
   "source": [
    "#### Author\n",
    "Mohammed Al-Harrasi"
   ]
  }
 ],
 "metadata": {
  "kernelspec": {
   "display_name": "Python [conda env:Orange]",
   "language": "python",
   "name": "conda-env-Orange-py"
  },
  "language_info": {
   "codemirror_mode": {
    "name": "ipython",
    "version": 3
   },
   "file_extension": ".py",
   "mimetype": "text/x-python",
   "name": "python",
   "nbconvert_exporter": "python",
   "pygments_lexer": "ipython3",
   "version": "3.9.12"
  }
 },
 "nbformat": 4,
 "nbformat_minor": 5
}
